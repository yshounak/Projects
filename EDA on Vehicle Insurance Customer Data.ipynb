{
 "cells": [
  {
   "cell_type": "code",
   "execution_count": 1,
   "id": "4126d1ba",
   "metadata": {},
   "outputs": [],
   "source": [
    "# Libraries\n",
    "\n",
    "import pandas as pd"
   ]
  },
  {
   "cell_type": "code",
   "execution_count": 2,
   "id": "c8f7ff84",
   "metadata": {},
   "outputs": [],
   "source": [
    "# Loading data from files into DataFrames\n",
    "\n",
    "customer_details = pd.read_csv('/Users/shawn/Documents/Python Projects/customer_details.csv') \n",
    "policy_details = pd.read_csv(\"./customer_policy_details.csv\")\n",
    "\n",
    "\n",
    "# Creating columns into the Dataframes \n",
    "\n",
    "customer_details.columns = [\"customer_id\", \"Gender\", \"age\",\"driving licence present\",\"region code\",\n",
    "                                         \"previously insured\", \"vehicle age\", \"vehicle damage\"]\n",
    "policy_details.columns = [\"customer_id\", \"annual premium (in Rs)\", \"sales channel code\", \"vintage\", \"response\"]"
   ]
  },
  {
   "cell_type": "code",
   "execution_count": 3,
   "id": "1a9165a1",
   "metadata": {},
   "outputs": [
    {
     "name": "stdout",
     "output_type": "stream",
     "text": [
      "The count of null values in 'customer_id':  386\n",
      "The count of null values in 'Gender':  368\n",
      "The count of null values in 'age':  368\n",
      "The count of null values in 'driving licence present':  393\n",
      "The count of null values in 'region code':  392\n",
      "The count of null values in 'previously insured':  381\n",
      "The count of null values in 'vehicle age':  381\n",
      "The count of null values in 'vehicle damage':  407\n"
     ]
    }
   ],
   "source": [
    "# Generating the count of all the null values column wise\n",
    "\n",
    "\n",
    "print(\"The count of null values in 'customer_id': \", customer_details[\"customer_id\"].isnull().sum())\n",
    "print(\"The count of null values in 'Gender': \", customer_details[\"Gender\"].isnull().sum())\n",
    "print(\"The count of null values in 'age': \", customer_details[\"age\"].isnull().sum())\n",
    "print(\"The count of null values in 'driving licence present': \", customer_details[\"driving licence present\"].isnull().sum())\n",
    "print(\"The count of null values in 'region code': \", customer_details[\"region code\"].isnull().sum())\n",
    "print(\"The count of null values in 'previously insured': \", customer_details[\"previously insured\"].isnull().sum())\n",
    "print(\"The count of null values in 'vehicle age': \", customer_details[\"vehicle age\"].isnull().sum())\n",
    "print(\"The count of null values in 'vehicle damage': \", customer_details[\"vehicle damage\"].isnull().sum())\n",
    "\n",
    "#Dropped null values of 'customer_id' because central tendencies for id’s is not feasible.\n",
    "\n",
    "customer_details = customer_details.dropna(subset=[\"customer_id\"])\n",
    "policy_details = policy_details.dropna(subset=[\"customer_id\"])"
   ]
  },
  {
   "cell_type": "code",
   "execution_count": 4,
   "id": "d9bfb8fe",
   "metadata": {},
   "outputs": [],
   "source": [
    "#Replacing null values by mean or mode for customer_details\n",
    "\n",
    "#Mode - It is the most frequent value in the data set.\n",
    "customer_details[\"Gender\"] = customer_details[\"Gender\"].fillna(customer_details[\"Gender\"].mode()[0])\n",
    "customer_details[\"age\"] = customer_details[\"age\"].fillna(customer_details[\"age\"].mean())\n",
    "customer_details[\"driving licence present\"] = customer_details[\"driving licence present\"].fillna(customer_details[\"driving licence present\"].mean())\n",
    "customer_details[\"region code\"] = customer_details[\"region code\"].fillna(customer_details[\"region code\"].mode()[0])\n",
    "customer_details[\"previously insured\"] = customer_details[\"previously insured\"].fillna(customer_details[\"previously insured\"].mode()[0])\n",
    "customer_details[\"vehicle age\"] = customer_details[\"vehicle age\"].fillna(customer_details[\"vehicle age\"].mode()[0])\n",
    "customer_details[\"vehicle damage\"] = customer_details[\"vehicle damage\"].fillna(customer_details[\"vehicle damage\"].mode()[0])\n"
   ]
  },
  {
   "cell_type": "code",
   "execution_count": 5,
   "id": "2087037a",
   "metadata": {},
   "outputs": [],
   "source": [
    "#Replacing null values by mean or mode for policy_details\n",
    "\n",
    "policy_details[\"annual premium (in Rs)\"] = policy_details[\"annual premium (in Rs)\"].fillna(policy_details[\"annual premium (in Rs)\"].mean())\n",
    "policy_details[\"sales channel code\"] = policy_details[\"sales channel code\"].fillna(policy_details[\"sales channel code\"].mode()[0])\n",
    "policy_details[\"vintage\"] = policy_details[\"vintage\"].fillna(policy_details[\"vintage\"].mean())\n",
    "policy_details[\"response\"] = policy_details[\"response\"].fillna(policy_details[\"response\"].mode()[0])"
   ]
  },
  {
   "cell_type": "code",
   "execution_count": 16,
   "id": "b6feea1a",
   "metadata": {},
   "outputs": [
    {
     "name": "stdout",
     "output_type": "stream",
     "text": [
      "0\n",
      "0\n",
      "0\n",
      "10332\n",
      "0\n",
      "0\n"
     ]
    }
   ],
   "source": [
    "# An outlier is a data point in a data set that is distant from all the other observations.\n",
    "# A data point that lies outside the overall distribution of the dataset.\n",
    "# IQR is Inter Quartile Range, in it we focus on 25% and 75% (Percentile) \n",
    "\n",
    "customer_details.describe()\n",
    "policy_details.describe()\n",
    "\n",
    "Q1 = customer_details.describe().loc[\"25%\",\"age\"]\n",
    "Q3 = customer_details.describe().loc[\"75%\",\"age\"]\n",
    "\n",
    "IQR = Q3 - Q1\n",
    "print(customer_details.loc[customer_details[\"age\"] < (Q1 - IQR * 1.5),\"age\"].count())\n",
    "print(customer_details.loc[customer_details[\"age\"] > (Q3 + IQR * 1.5),\"age\"].count())\n",
    "\n",
    "Q1 = policy_details.describe().loc[\"25%\",\"annual premium (in Rs)\"]\n",
    "Q3 = policy_details.describe().loc[\"75%\",\"annual premium (in Rs)\"]\n",
    "\n",
    "IQR = Q3 - Q1\n",
    "print(policy_details.loc[policy_details[\"annual premium (in Rs)\"] < (Q1 - IQR * 1.5), \"annual premium (in Rs)\"].count())\n",
    "print(policy_details.loc[policy_details[\"annual premium (in Rs)\"] > (Q3 + IQR * 1.5),\"annual premium (in Rs)\"].count())\n",
    "                                                                    \n",
    "\n",
    "Q1 = policy_details.describe().loc[\"25%\",\"vintage\"]\n",
    "Q3 = policy_details.describe().loc[\"75%\",\"vintage\"]\n",
    "\n",
    "policy_details[\"annual premium (in Rs)\"].isoutlier\n",
    "\n",
    "IQR = Q3 - Q1\n",
    "print(policy_details.loc[policy_details[\"vintage\"] < (Q1 - IQR * 1.5), \"vintage\"].count())\n",
    "print(policy_details.loc[policy_details[\"vintage\"] > (Q3 + IQR * 1.5), \"vintage\"].count())"
   ]
  },
  {
   "cell_type": "code",
   "execution_count": 17,
   "id": "519c680b",
   "metadata": {},
   "outputs": [],
   "source": [
    "# The strip() method removes any leading (spaces at the beginning) and trailing (spaces at the end) characters (space is the default leading character to remove)\n",
    "\n",
    "customer_details[\"Gender\"] = customer_details[\"Gender\"].str.strip()\n",
    "customer_details[\"vehicle age\"] = customer_details[\"vehicle age\"].str.strip()\n",
    "customer_details[\"vehicle damage\"] = customer_details[\"vehicle damage\"].str.strip()"
   ]
  },
  {
   "cell_type": "code",
   "execution_count": 18,
   "id": "70305bd0",
   "metadata": {},
   "outputs": [],
   "source": [
    "# changing the case of all characters to upper case\n",
    "\n",
    "customer_details[\"Gender\"] = customer_details[\"Gender\"].str.upper()\n",
    "customer_details[\"vehicle age\"] = customer_details[\"vehicle age\"].str.upper()\n",
    "customer_details[\"vehicle damage\"] = customer_details[\"vehicle damage\"].str.upper()"
   ]
  },
  {
   "cell_type": "code",
   "execution_count": 19,
   "id": "0b6d57cc",
   "metadata": {},
   "outputs": [],
   "source": [
    "#\n",
    "\n",
    "gender_dummy = pd.get_dummies(customer_details[\"Gender\"])\n",
    "\n",
    "va_dummy = pd.get_dummies(customer_details[\"vehicle age\"])\n",
    "\n",
    "vd_dummy = pd.get_dummies(customer_details[\"vehicle damage\"])\n",
    "\n",
    "dlp_dummy = pd.get_dummies(customer_details[\"driving licence present\"])\n",
    "\n",
    "pi_dummy = pd.get_dummies(customer_details[\"previously insured\"])\n",
    "\n",
    "response_dummy = pd.get_dummies(policy_details[\"response\"])"
   ]
  },
  {
   "cell_type": "code",
   "execution_count": 20,
   "id": "d323ba80",
   "metadata": {},
   "outputs": [],
   "source": [
    "# Dropping duplicate rows\n",
    "\n",
    "customer_details = customer_details.drop_duplicates(keep = 'last')\n",
    "policy_details = policy_details.drop_duplicates(keep = 'last')"
   ]
  },
  {
   "cell_type": "code",
   "execution_count": 21,
   "id": "d53adc63",
   "metadata": {},
   "outputs": [],
   "source": [
    "# Merging the two data frames\n",
    "merge_df = pd.merge(customer_details, policy_details, on = 'customer_id')"
   ]
  },
  {
   "cell_type": "code",
   "execution_count": 22,
   "id": "c509133f",
   "metadata": {},
   "outputs": [
    {
     "name": "stdout",
     "output_type": "stream",
     "text": [
      "Gender\n",
      "FEMALE    30492.028478\n",
      "MALE      30623.619273\n",
      "Name: annual premium (in Rs), dtype: float64\n",
      "age\n",
      "20.0    26924.620173\n",
      "21.0    30564.475810\n",
      "22.0    30823.778102\n",
      "23.0    30688.606298\n",
      "24.0    31183.802890\n",
      "            ...     \n",
      "81.0    31201.571429\n",
      "82.0    37705.379310\n",
      "83.0    31012.727273\n",
      "84.0    35440.818182\n",
      "85.0    29792.363636\n",
      "Name: annual premium (in Rs), Length: 67, dtype: float64\n",
      "vehicle age\n",
      "1-2 YEAR     30524.629840\n",
      "< 1 YEAR     30115.716367\n",
      "> 2 YEARS    35657.520845\n",
      "Name: annual premium (in Rs), dtype: float64\n"
     ]
    }
   ],
   "source": [
    "#Gender wise average annual premium\n",
    "\n",
    "mean_prem_by_gender = merge_df.groupby([\"Gender\"])[\"annual premium (in Rs)\"].mean()\n",
    "print(mean_prem_by_gender)\n",
    "\n",
    "#Age wise average annual premium\n",
    "\n",
    "mean_prem_by_age = merge_df.groupby([\"age\"])[\"annual premium (in Rs)\"].mean()\n",
    "print(mean_prem_by_age)\n",
    "\n",
    "#Vehicle age wise average annual premium.\n",
    "\n",
    "mean_prem_by_va = merge_df.groupby([\"vehicle age\"])[\"annual premium (in Rs)\"].mean()\n",
    "print(mean_prem_by_va)"
   ]
  },
  {
   "cell_type": "code",
   "execution_count": 23,
   "id": "43876c99",
   "metadata": {},
   "outputs": [
    {
     "name": "stdout",
     "output_type": "stream",
     "text": [
      "0.06771515986613928\n"
     ]
    }
   ],
   "source": [
    "# Finding relationship between Person age and annual premium\n",
    "\n",
    "Correlation_coefficient = merge_df[\"age\"].corr(merge_df[\"annual premium (in Rs)\"])\n",
    "\n",
    "print(Correlation_coefficient)\n",
    "\n",
    "# there is no relationship between Person age and annual premium because Correlation coefficient<0.5"
   ]
  },
  {
   "cell_type": "code",
   "execution_count": null,
   "id": "478174b6",
   "metadata": {},
   "outputs": [],
   "source": []
  },
  {
   "cell_type": "code",
   "execution_count": null,
   "id": "2ee27515",
   "metadata": {},
   "outputs": [],
   "source": []
  }
 ],
 "metadata": {
  "kernelspec": {
   "display_name": "Python 3 (ipykernel)",
   "language": "python",
   "name": "python3"
  },
  "language_info": {
   "codemirror_mode": {
    "name": "ipython",
    "version": 3
   },
   "file_extension": ".py",
   "mimetype": "text/x-python",
   "name": "python",
   "nbconvert_exporter": "python",
   "pygments_lexer": "ipython3",
   "version": "3.9.13"
  }
 },
 "nbformat": 4,
 "nbformat_minor": 5
}
